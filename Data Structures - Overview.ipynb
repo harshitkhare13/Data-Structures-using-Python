{
 "cells": [
  {
   "cell_type": "markdown",
   "metadata": {},
   "source": [
    "# Overview of Data Structures (Linear Data Structures)"
   ]
  },
  {
   "cell_type": "markdown",
   "metadata": {},
   "source": [
    "A data structure is a particular way of organizing data in a computer so that it can be used effectively. <br>The idea is to reduce the space and time complexities of different tasks. <br>Below is an overview of some popular linear data structures.\n",
    "\n",
    "1. Array\n",
    "2. Linked List\n",
    "3. Stack\n",
    "4. Queue"
   ]
  },
  {
   "cell_type": "markdown",
   "metadata": {},
   "source": [
    "## Array"
   ]
  },
  {
   "cell_type": "markdown",
   "metadata": {},
   "source": [
    "Array is a data structure used to store homogeneous elements at contiguous locations.\n",
    "```\n",
    "Let size of array be n.\n",
    "Accessing Time: O(1) [This is possible because elements\n",
    "                      are stored at contiguous locations]   \n",
    "Search Time:   O(n) for Sequential Search: \n",
    "               O(log n) for Binary Search [If Array is sorted]\n",
    "Insertion Time: O(n) [The worst case occurs when insertion \n",
    "                     happens at the Beginning of an array and \n",
    "                     requires shifting all of the elements]\n",
    "Deletion Time: O(n) [The worst case occurs when deletion \n",
    "                     happens at the Beginning of an array and \n",
    "                     requires shifting all of the elements]\n",
    "```\n",
    "\n",
    "<b>Example:</b> <br>let us say, we want to store marks of all students in a class, we can use an array to store them. This helps in reducing the use of number of variables as we don’t need to create a separate variable for marks of every subject. All marks can be accessed by simply traversing the array."
   ]
  },
  {
   "cell_type": "markdown",
   "metadata": {},
   "source": [
    "# ---------------------------------------------------------------------------------------"
   ]
  },
  {
   "cell_type": "markdown",
   "metadata": {},
   "source": [
    "## Linked List"
   ]
  },
  {
   "cell_type": "markdown",
   "metadata": {},
   "source": [
    "A linked list is a linear data structure (like arrays) where each element is a separate object. <br>Each element (that is node) of a list is comprising of two items – the data and a reference to the next node.\n",
    "\n",
    "#### Types of Linked List:</b>\n",
    "    \n",
    "1. <b>Singly Linked List:</b> In this type of linked list, every node stores address or reference of next node in list and the last node has next address or reference as NULL. <br>\n",
    "    Eg. 1->2->3->4->NULL\n",
    "    \n",
    "\n",
    "2. <b>Doubly Linked List:</b> In this type of Linked list, there are two references associated with each node, One of the reference points to the next node and one to the previous node. Advantage of this data structure is that we can traverse in both the directions and for deletion we don’t need to have explicit access to previous node. <br>\n",
    "    Eg. NULL<-1<->2<->3->NULL\n",
    "\n",
    "\n",
    "3. <b>Circular Linked List:</b> Circular linked list is a linked list where all nodes are connected to form a circle. There is no NULL at the end. A circular linked list can be a singly circular linked list or doubly circular linked list. Advantage of this data structure is that any node can be made as starting node. This is useful in implementation of circular queue in linked list.<br>\n",
    "    Eg. 1->2->3->1 [The next pointer of last node is pointing to the first]\n",
    "```\n",
    "Accessing time of an element : O(n)\n",
    "Search time of an element : O(n)\n",
    "Insertion of an Element : O(1) [If we are at the position \n",
    "                                where we have to insert \n",
    "                                an element] \n",
    "Deletion of an Element : O(1) [If we know address of node\n",
    "                               previous the node to be \n",
    "                               deleted] \n",
    "                               ```\n",
    "                               \n",
    "<b>Example:</b> <br>Consider the previous example where we made an array of marks of student. Now if a new subject is added in the course, its marks also to be added in the array of marks. But the size of the array was fixed and it is already full so it can not add any new element. If we make an array of a size lot more than the number of subjects it is possible that most of the array will remain empty. We reduce the space wastage Linked List is formed which adds a node only when a new element is introduced.<br><br>\n",
    "<b>Advantages:</b><br>Insertions and deletions also become easier with linked list.<br><br>\n",
    "<b>Disadvantages:</b><br>\n",
    "One big drawback of linked list is, random access is not allowed. With arrays, we can access i’th element in O(1) time. In linked list, it takes Θ(i) time."
   ]
  },
  {
   "cell_type": "markdown",
   "metadata": {},
   "source": [
    "# ---------------------------------------------------------------------------------------"
   ]
  },
  {
   "cell_type": "markdown",
   "metadata": {},
   "source": [
    "## Stack"
   ]
  },
  {
   "cell_type": "markdown",
   "metadata": {},
   "source": [
    "A stack or LIFO (last in, first out) is an abstract data type that serves as a collection of elements, with two principal operations: \n",
    "- <b>push:</b> which adds an element to the collection\n",
    "    \n",
    "- <b>pop:</b> which removes the last element that was added. <br>\n",
    "\n",
    "In stack both the operations of push and pop takes place at the same end that is top of the stack. <br>It can be implemented by using both array and linked list.\n",
    "```\n",
    "Insertion : O(1)\n",
    "Deletion :  O(1)\n",
    "Access Time : O(n) [Worst Case]\n",
    "Insertion and Deletion are allowed on one end. ```\n",
    "\n",
    "<b>Example:</b><br>\n",
    "Stacks are used for maintaining function calls (the last called function must finish execution first), we can always remove recursion with the help of stacks. <br>Stacks are also used in cases where we have to reverse a word, check for balanced parenthesis and in editors where the word you typed the last is the first to be removed when you use undo operation. <br>Similarly, to implement back functionality in web browsers."
   ]
  },
  {
   "cell_type": "markdown",
   "metadata": {},
   "source": [
    "# ---------------------------------------------------------------------------------------\n"
   ]
  },
  {
   "cell_type": "markdown",
   "metadata": {},
   "source": [
    "# Queue"
   ]
  },
  {
   "cell_type": "markdown",
   "metadata": {},
   "source": [
    "A queue or FIFO (first in, first out) is an abstract data type that serves as a collection of elements, with two principal operations: \n",
    "- <b>enqueue:</b> the process of adding an element to the collection.(The element is added from the rear side)\n",
    "- <b>dequeue:</b> the process of removing the first element that was added. (The element is removed from the front side). \n",
    "\n",
    "It can be implemented by using both array and linked list.\n",
    "```\n",
    "Insertion : O(1)\n",
    "Deletion  : O(1)\n",
    "Access Time : O(n) [Worst Case]```\n",
    "\n",
    "<b>Example:</b> <br>\n",
    "Queue as the name says is the data structure built according to the queues of bus stop or train where the person who is standing in the front of the queue(standing for the longest time) is the first one to get the ticket. <br>So any situation where resources are shared among multiple users and served on first come first server basis. <br>Examples include CPU scheduling, Disk Scheduling. <br><br>Another application of queue is when data is transferred asynchronously (data not necessarily received at same rate as sent) between two processes. <br>Examples include IO Buffers, pipes, file IO, etc.\n",
    "\n",
    "### Circular Queue \n",
    "The advantage of this data structure is that it reduces wastage of space in case of array implementation, As the insertion of the (n+1)’th element is done at the 0’th index if it is empty."
   ]
  },
  {
   "cell_type": "markdown",
   "metadata": {},
   "source": [
    "# ---------------------------------------------------------------------------------------\n"
   ]
  },
  {
   "cell_type": "code",
   "execution_count": null,
   "metadata": {},
   "outputs": [],
   "source": []
  }
 ],
 "metadata": {
  "kernelspec": {
   "display_name": "Python 3",
   "language": "python",
   "name": "python3"
  },
  "language_info": {
   "codemirror_mode": {
    "name": "ipython",
    "version": 3
   },
   "file_extension": ".py",
   "mimetype": "text/x-python",
   "name": "python",
   "nbconvert_exporter": "python",
   "pygments_lexer": "ipython3",
   "version": "3.7.3"
  }
 },
 "nbformat": 4,
 "nbformat_minor": 2
}
