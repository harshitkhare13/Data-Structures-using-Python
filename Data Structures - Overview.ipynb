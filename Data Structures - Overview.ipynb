{
 "cells": [
  {
   "cell_type": "markdown",
   "metadata": {},
   "source": [
    "# Overview of Data Structures (Linear Data Structures)"
   ]
  },
  {
   "cell_type": "markdown",
   "metadata": {},
   "source": [
    "A data structure is a particular way of organizing data in a computer so that it can be used effectively. <br>The idea is to reduce the space and time complexities of different tasks. <br>Below is an overview of some popular linear data structures.\n",
    "\n",
    "1. Array\n",
    "2. Linked List\n",
    "3. Stack\n",
    "4. Queue"
   ]
  },
  {
   "cell_type": "markdown",
   "metadata": {},
   "source": [
    "## Array"
   ]
  },
  {
   "cell_type": "markdown",
   "metadata": {},
   "source": [
    "Array is a data structure used to store homogeneous elements at contiguous locations.\n",
    "```\n",
    "Let size of array be n.\n",
    "Accessing Time: O(1) [This is possible because elements\n",
    "                      are stored at contiguous locations]   \n",
    "Search Time:   O(n) for Sequential Search: \n",
    "               O(log n) for Binary Search [If Array is sorted]\n",
    "Insertion Time: O(n) [The worst case occurs when insertion \n",
    "                     happens at the Beginning of an array and \n",
    "                     requires shifting all of the elements]\n",
    "Deletion Time: O(n) [The worst case occurs when deletion \n",
    "                     happens at the Beginning of an array and \n",
    "                     requires shifting all of the elements]\n",
    "```\n",
    "\n",
    "<b>Example:</b> <br>let us say, we want to store marks of all students in a class, we can use an array to store them. This helps in reducing the use of number of variables as we don’t need to create a separate variable for marks of every subject. All marks can be accessed by simply traversing the array."
   ]
  },
  {
   "cell_type": "markdown",
   "metadata": {},
   "source": [
    "# ---------------------------------------------------------------------------------------"
   ]
  },
  {
   "cell_type": "markdown",
   "metadata": {},
   "source": [
    "## Linked List"
   ]
  },
  {
   "cell_type": "markdown",
   "metadata": {},
   "source": [
    "A linked list is a linear data structure (like arrays) where each element is a separate object. <br>Each element (that is node) of a list is comprising of two items – the data and a reference to the next node.\n",
    "\n",
    "#### Types of Linked List:</b>\n",
    "    \n",
    "1. <b>Singly Linked List:</b> In this type of linked list, every node stores address or reference of next node in list and the last node has next address or reference as NULL. <br>\n",
    "    Eg. 1->2->3->4->NULL\n",
    "    \n",
    "\n",
    "2. <b>Doubly Linked List:</b> In this type of Linked list, there are two references associated with each node, One of the reference points to the next node and one to the previous node. Advantage of this data structure is that we can traverse in both the directions and for deletion we don’t need to have explicit access to previous node. <br>\n",
    "    Eg. NULL<-1<->2<->3->NULL\n",
    "\n",
    "\n",
    "3. <b>Circular Linked List:</b> Circular linked list is a linked list where all nodes are connected to form a circle. There is no NULL at the end. A circular linked list can be a singly circular linked list or doubly circular linked list. Advantage of this data structure is that any node can be made as starting node. This is useful in implementation of circular queue in linked list.<br>\n",
    "    Eg. 1->2->3->1 [The next pointer of last node is pointing to the first]\n",
    "```\n",
    "Accessing time of an element : O(n)\n",
    "Search time of an element : O(n)\n",
    "Insertion of an Element : O(1) [If we are at the position \n",
    "                                where we have to insert \n",
    "                                an element] \n",
    "Deletion of an Element : O(1) [If we know address of node\n",
    "                               previous the node to be \n",
    "                               deleted] \n",
    "                               ```\n",
    "                               \n",
    "<b>Example:</b> <br>Consider the previous example where we made an array of marks of student. Now if a new subject is added in the course, its marks also to be added in the array of marks. But the size of the array was fixed and it is already full so it can not add any new element. If we make an array of a size lot more than the number of subjects it is possible that most of the array will remain empty. We reduce the space wastage Linked List is formed which adds a node only when a new element is introduced.<br><br>\n",
    "<b>Advantages:</b><br>Insertions and deletions also become easier with linked list.<br><br>\n",
    "<b>Disadvantages:</b><br>\n",
    "One big drawback of linked list is, random access is not allowed. With arrays, we can access i’th element in O(1) time. In linked list, it takes Θ(i) time."
   ]
  },
  {
   "cell_type": "markdown",
   "metadata": {},
   "source": [
    "# ---------------------------------------------------------------------------------------"
   ]
  },
  {
   "cell_type": "markdown",
   "metadata": {},
   "source": [
    "## Stack"
   ]
  },
  {
   "cell_type": "markdown",
   "metadata": {},
   "source": [
    "A stack or LIFO (last in, first out) is an abstract data type that serves as a collection of elements, with two principal operations: \n",
    "- <b>push:</b> which adds an element to the collection\n",
    "    \n",
    "- <b>pop:</b> which removes the last element that was added. <br>\n",
    "\n",
    "In stack both the operations of push and pop takes place at the same end that is top of the stack. <br>It can be implemented by using both array and linked list.\n",
    "```\n",
    "Insertion : O(1)\n",
    "Deletion :  O(1)\n",
    "Access Time : O(n) [Worst Case]\n",
    "Insertion and Deletion are allowed on one end. ```\n",
    "\n",
    "<b>Example:</b><br>\n",
    "Stacks are used for maintaining function calls (the last called function must finish execution first), we can always remove recursion with the help of stacks. <br>Stacks are also used in cases where we have to reverse a word, check for balanced parenthesis and in editors where the word you typed the last is the first to be removed when you use undo operation. <br>Similarly, to implement back functionality in web browsers."
   ]
  },
  {
   "cell_type": "markdown",
   "metadata": {},
   "source": [
    "# ---------------------------------------------------------------------------------------\n"
   ]
  },
  {
   "cell_type": "markdown",
   "metadata": {},
   "source": [
    "# Queue"
   ]
  },
  {
   "cell_type": "markdown",
   "metadata": {},
   "source": [
    "A queue or FIFO (first in, first out) is an abstract data type that serves as a collection of elements, with two principal operations: \n",
    "- <b>enqueue:</b> the process of adding an element to the collection.(The element is added from the rear side)\n",
    "- <b>dequeue:</b> the process of removing the first element that was added. (The element is removed from the front side). \n",
    "\n",
    "It can be implemented by using both array and linked list.\n",
    "```\n",
    "Insertion : O(1)\n",
    "Deletion  : O(1)\n",
    "Access Time : O(n) [Worst Case]```\n",
    "\n",
    "<b>Example:</b> <br>\n",
    "Queue as the name says is the data structure built according to the queues of bus stop or train where the person who is standing in the front of the queue(standing for the longest time) is the first one to get the ticket. <br>So any situation where resources are shared among multiple users and served on first come first server basis. <br>Examples include CPU scheduling, Disk Scheduling. <br><br>Another application of queue is when data is transferred asynchronously (data not necessarily received at same rate as sent) between two processes. <br>Examples include IO Buffers, pipes, file IO, etc.\n",
    "\n",
    "### Circular Queue \n",
    "The advantage of this data structure is that it reduces wastage of space in case of array implementation, As the insertion of the (n+1)’th element is done at the 0’th index if it is empty."
   ]
  },
  {
   "cell_type": "markdown",
   "metadata": {},
   "source": [
    "# ---------------------------------------------------------------------------------------\n",
    "# ---------------------------------------------------------------------------------------"
   ]
  },
  {
   "cell_type": "markdown",
   "metadata": {},
   "source": [
    "# Overview of Data Structures (Binary Tree, BST, Heap and Hash)"
   ]
  },
  {
   "cell_type": "markdown",
   "metadata": {},
   "source": [
    "We have discussed Overview of Array, Linked List, Queue and Stack. <br>\n",
    "Now, the following Data Structures are discussed.\n",
    "\n",
    "5. Binary Tree\n",
    "6. Binary Search Tree\n",
    "7. Binary Heap\n",
    "9. Hashing"
   ]
  },
  {
   "cell_type": "markdown",
   "metadata": {},
   "source": [
    "## Binary Tree"
   ]
  },
  {
   "cell_type": "markdown",
   "metadata": {},
   "source": [
    "Unlike Arrays, Linked Lists, Stack and queues, which are linear data structures, trees are hierarchical data structures.<br>\n",
    "A binary tree is a tree data structure in which each node has at most two children, which are referred to as the left child and the right child.<br> It is implemented mainly using Links.\n",
    "\n",
    "### Binary Tree Representation:\n",
    "A tree is represented by a pointer to the topmost node in tree. If the tree is empty, then value of root is NULL.<br> A Binary Tree node contains following parts.\n",
    "1. Data\n",
    "2. Pointer to left child\n",
    "3. Pointer to right child\n",
    "\n",
    "A Binary Tree can be traversed in two ways:<br>\n",
    "- <b>Depth First Traversal:</b> Inorder (Left-Root-Right), Preorder (Root-Left-Right) and Postorder (Left-Right-Root)\n",
    "- <b>Breadth First Traversal:</b> Level Order Traversal\n",
    "\n",
    "### Binary Tree Properties:\n",
    "```\n",
    "The maximum number of nodes at level ‘l’ = 2l-1.\n",
    "\n",
    "Maximum number of nodes = 2h – 1.\n",
    "Here h is height of a tree. Height is considered \n",
    "as is maximum number of nodes on root to leaf path\n",
    "\n",
    "Minimum possible height =  ceil(Log2(n+1))   \n",
    "\n",
    "In Binary tree, number of leaf nodes is always one \n",
    "more than nodes with two children.\n",
    "\n",
    "Time Complexity of Tree Traversal: O(n)\n",
    "```\n",
    "<b>Examples:</b><br> One reason to use binary tree or tree in general is for the things that form a hierarchy. They are useful in File structures where each file is located in a particular directory and there is a specific hierarchy associated with files and directories. <br>Another example where Trees are useful is storing heirarchical objects like JavaScript Document Object Model considers HTML page as a tree with nesting of tags as parent child relations."
   ]
  },
  {
   "cell_type": "markdown",
   "metadata": {},
   "source": [
    "# ---------------------------------------------------------------------------------------"
   ]
  },
  {
   "cell_type": "markdown",
   "metadata": {},
   "source": [
    "## Binary Search Tree"
   ]
  },
  {
   "cell_type": "markdown",
   "metadata": {},
   "source": [
    "Binary Search Tree is a Binary Tree with following additional properties:\n",
    "1. The left subtree of a node contains only nodes with keys less than the node’s key.\n",
    "2. The right subtree of a node contains only nodes with keys greater than the node’s key.\n",
    "3. The left and right subtree each must also be a binary search tree.\n",
    "\n",
    "\n",
    "<b>Time Complexities:</b>\n",
    "```\n",
    "Search :  O(h)\n",
    "Insertion : O(h)\n",
    "Deletion : O(h)\n",
    "Extra Space : O(n) for pointers\n",
    "\n",
    "h: Height of BST\n",
    "n: Number of nodes in BST\n",
    "\n",
    "If Binary Search Tree is Height Balanced, \n",
    "then h = O(Log n) \n",
    "\n",
    "Self-Balancing BSTs such as AVL Tree, Red-Black\n",
    "Tree and Splay Tree make sure that height of BST \n",
    "remains O(Log n)\n",
    "```\n",
    "- BST provide moderate access/search (quicker than Linked List and slower than arrays).\n",
    "- BST provide moderate insertion/deletion (quicker than Arrays and slower than Linked Lists).\n",
    "\n",
    "<b>Examples:</b><br> Its main use is in search application where data is constantly entering/leaving and data needs to printed in sorted order. <br>For example in implementation in E- commerce websites where a new product is added or product goes out of stock and all products are lised in sorted order."
   ]
  },
  {
   "cell_type": "markdown",
   "metadata": {},
   "source": [
    "# ---------------------------------------------------------------------------------------\n"
   ]
  },
  {
   "cell_type": "markdown",
   "metadata": {},
   "source": [
    "## Binary Heap"
   ]
  },
  {
   "cell_type": "markdown",
   "metadata": {},
   "source": [
    "A Binary Heap is a Binary Tree with following properties.\n",
    "1) It’s a complete tree (All levels are completely filled except possibly the last level and the last level has all keys as left as possible). This property of Binary Heap makes them suitable to be stored in an array.\n",
    "2) A Binary Heap is either Min Heap or Max Heap. In a Min Binary Heap, the key at root must be minimum among all keys present in Binary Heap. The same property must be recursively true for all nodes in Binary Tree. Max Binary Heap is similar to Min Heap. It is mainly implemented using array.\n",
    "```\n",
    "Get Minimum in Min Heap: O(1) [Or Get Max in Max Heap]\n",
    "Extract Minimum Min Heap: O(Log n) [Or Extract Max in Max Heap]\n",
    "Decrease Key in Min Heap: O(Log n)  [Or Extract Max in Max Heap]\n",
    "Insert: O(Log n) \n",
    "Delete: O(Log n)\n",
    "```\n",
    "<b>Example:</b><br> Used in implementing efficient priority-queues, which in turn are used for scheduling processes in operating systems. Priority Queues are also used in Dijstra’s and Prim’s graph algorithms.<br>\n",
    "The Heap data structure can be used to efficiently find the k smallest (or largest) elements in an array, merging k sorted arrays, median of a stream, etc.<br>\n",
    "Heap is a special data structure and it cannot be used for searching of a particular element."
   ]
  },
  {
   "cell_type": "markdown",
   "metadata": {},
   "source": [
    "# ---------------------------------------------------------------------------------------\n"
   ]
  },
  {
   "cell_type": "markdown",
   "metadata": {},
   "source": [
    "## HashingHash Function"
   ]
  },
  {
   "cell_type": "markdown",
   "metadata": {},
   "source": [
    "<b>HashingHash Function:</b><br> A function that converts a given big input key to a small practical integer value.<br>The mapped integer value is used as an index in hash table.<br> A good hash function should have following properties\n",
    "1) Efficiently computable.\n",
    "2) Should uniformly distribute the keys (Each table position equally likely for each key)\n",
    "\n",
    "<b>Hash Table:</b><br> An array that stores pointers to records corresponding to a given phone number. An entry in hash table is NIL if no existing phone number has hash function value equal to the index for the entry.\n",
    "\n",
    "<b>Collision Handling:</b><br> Since a hash function gets us a small number for a key which is a big integer or string, there is possibility that two keys result in same value. The situation where a newly inserted key maps to an already occupied slot in hash table is called collision and must be handled using some collision handling technique. Following are the ways to handle collisions:\n",
    "\n",
    "<b>Chaining:</b><br>The idea is to make each cell of hash table point to a linked list of records that have same hash function value. Chaining is simple, but requires additional memory outside the table.\n",
    "\n",
    "<b>Open Addressing:</b><br> In open addressing, all elements are stored in the hash table itself. Each table entry contains either a record or NIL. When searching for an element, we one by one examine table slots until the desired element is found or it is clear that the element is not in the table.\n",
    "```\n",
    "Space : O(n)\n",
    "Search    : O(1) [Average]    O(n) [Worst case]\n",
    "Insertion : O(1) [Average]    O(n) [Worst Case]\n",
    "Deletion  : O(1) [Average]    O(n) [Worst Case]\n",
    "```\n",
    "\n",
    "Hashing seems better than BST for all the operations. But in hashing, elements are unordered and in BST elements are stored in an ordered manner. Also BST is easy to implement but hash functions can sometimes be very complex to generate. In BST, we can also efficiently find floor and ceil of values.\n",
    "\n",
    "<b>Example:</b><br> Hashing can be used to remove duplicates from a set of elements. Can also be used find frequency of all items. For example, in web browsers, we can check visited urls using hashing. In firewalls, we can use hashing to detect spam. We need to hash IP addresses. Hashing can be used in any situation where want search() insert() and delete() in O(1) time."
   ]
  },
  {
   "cell_type": "markdown",
   "metadata": {},
   "source": [
    "# ---------------------------------------------------------------------------------------\n",
    "# ---------------------------------------------------------------------------------------"
   ]
  },
  {
   "cell_type": "markdown",
   "metadata": {},
   "source": [
    "# Overview of Data Structures (Graph, Trie, Segment Tree and Suffix Tree)"
   ]
  },
  {
   "cell_type": "code",
   "execution_count": null,
   "metadata": {},
   "outputs": [],
   "source": []
  }
 ],
 "metadata": {
  "kernelspec": {
   "display_name": "Python 3",
   "language": "python",
   "name": "python3"
  },
  "language_info": {
   "codemirror_mode": {
    "name": "ipython",
    "version": 3
   },
   "file_extension": ".py",
   "mimetype": "text/x-python",
   "name": "python",
   "nbconvert_exporter": "python",
   "pygments_lexer": "ipython3",
   "version": "3.7.3"
  }
 },
 "nbformat": 4,
 "nbformat_minor": 2
}
