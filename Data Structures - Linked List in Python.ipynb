{
 "cells": [
  {
   "cell_type": "markdown",
   "metadata": {},
   "source": [
    "# Introduction to Linked List"
   ]
  },
  {
   "cell_type": "markdown",
   "metadata": {},
   "source": [
    "Like arrays, Linked List is a linear data structure. Unlike arrays, linked list elements are not stored at contiguous location; the elements are linked using pointers.\n",
    "\n",
    "![Linked List](https://media.geeksforgeeks.org/wp-content/cdn-uploads/gq/2013/03/Linkedlist.png)\n",
    "\n",
    "\n",
    "### Why Linked List?\n",
    "Arrays can be used to store linear data of similar types, but arrays have following limitations.<br>\n",
    "1. The size of the arrays is fixed: So we must know the upper limit on the number of elements in advance. Also, generally, the allocated memory is equal to the upper limit irrespective of the usage.\n",
    "2. Inserting a new element in an array of elements is expensive, because room has to be created for the new elements and to create room existing elements have to shifted.\n",
    "\n",
    "\n",
    "\n",
    "<b>For example</b>: In a system if we maintain a sorted list of IDs in an array id[].\n",
    "```\n",
    "id[] = [1000, 1010, 1050, 2000, 2040]\n",
    "```\n",
    "\n",
    "And if we want to insert a new ID 1005, then to maintain the sorted order, we have to move all the elements after 1000 (excluding 1000).<br>\n",
    "Deletion is also expensive with arrays until unless some special techniques are used. For example, to delete 1010 in id[], everything after 1010 has to be moved.<br>\n",
    "\n",
    "### Advantages over arrays\n",
    "1. Dynamic size\n",
    "2. Ease of insertion/deletion\n",
    "\n",
    "### Drawbacks:\n",
    "1. Random access is not allowed. We have to access elements sequentially starting from the first node. So we cannot do binary search with linked lists efficiently with its default implementation.\n",
    "2. Extra memory space for a pointer is required with each element of the list.\n",
    "3. Not cache friendly. Since array elements are contiguous locations, there is locality of reference which is not there in case of linked lists."
   ]
  },
  {
   "cell_type": "markdown",
   "metadata": {},
   "source": [
    "### Representation:\n",
    "A linked list is represented by a pointer to the first node of the linked list. <br>\n",
    "The first node is called head. If the linked list is empty, then value of head is NULL.\n",
    "\n",
    "Each node in a list consists of at least two parts:\n",
    "1. Data\n",
    "2. Pointer (Or Reference) to the next node\n",
    "\n",
    "In C, we can represent a node using structures. Below is an example of a linked list node with an integer data.\n",
    "In Java or C#, LinkedList can be represented as a class and a Node as a separate class. The LinkedList class contains a reference of Node class type."
   ]
  },
  {
   "cell_type": "markdown",
   "metadata": {},
   "source": [
    "### First Simple Linked List: Let us create a simple linked list with 3 nodes."
   ]
  },
  {
   "cell_type": "code",
   "execution_count": 3,
   "metadata": {},
   "outputs": [],
   "source": [
    "# Node class \n",
    "class Node: \n",
    "\n",
    "    # Function to initialise the node object \n",
    "    def __init__(self, data): \n",
    "        self.data = data # Assign data \n",
    "        self.next = None # Initialize next as null \n",
    "\n",
    "\n",
    "# Linked List class contains a Node object \n",
    "class LinkedList: \n",
    "\n",
    "    # Function to initialize head \n",
    "    def __init__(self): \n",
    "        self.head = None\n",
    "\n",
    "if __name__=='__main__': \n",
    "\n",
    "    # Start with the empty list \n",
    "    llist = LinkedList() \n",
    "\n",
    "    llist.head = Node(1) \n",
    "    second = Node(2) \n",
    "    third = Node(3) \n",
    "\n",
    "    ''' \n",
    "    Three nodes have been created. \n",
    "    We have references to these three blocks as first, \n",
    "    second and third \n",
    "\n",
    "    llist.head        second           third \n",
    "        |               |                | \n",
    "        |               |                | \n",
    "    +----+------+    +----+------+   +----+------+ \n",
    "    | 1  | None |    | 2  | None |   | 3  | None | \n",
    "    +----+------+    +----+------+   +----+------+ \n",
    "    '''\n",
    "\n",
    "    llist.head.next = second; # Link first node with second \n",
    "\n",
    "    ''' \n",
    "    Now next of first Node refers to second. So they \n",
    "    both are linked. \n",
    "\n",
    "    llist.head          second          third \n",
    "        |                 |               | \n",
    "        |                 |               | \n",
    "    +----+------+    +----+------+   +----+------+ \n",
    "    |  1 | o-------->| 2  | null |   | 3  | null | \n",
    "    +----+------+    +----+------+   +----+------+ \n",
    "    '''\n",
    "    \n",
    "    second.next = third; # Link second node with the third node \n",
    "\n",
    "    ''' \n",
    "    Now next of second Node refers to third. So all three \n",
    "    nodes are linked. \n",
    "\n",
    "    llist.head          second           third \n",
    "         |                |                | \n",
    "         |                |                | \n",
    "    +----+------+    +----+------+    +----+------+ \n",
    "    | 1  | o-------->| 2  | o-------->| 3  | null | \n",
    "    +----+------+    +----+------+    +----+------+ \n",
    "    '''\n"
   ]
  },
  {
   "cell_type": "code",
   "execution_count": null,
   "metadata": {},
   "outputs": [],
   "source": []
  }
 ],
 "metadata": {
  "kernelspec": {
   "display_name": "Python 3",
   "language": "python",
   "name": "python3"
  },
  "language_info": {
   "codemirror_mode": {
    "name": "ipython",
    "version": 3
   },
   "file_extension": ".py",
   "mimetype": "text/x-python",
   "name": "python",
   "nbconvert_exporter": "python",
   "pygments_lexer": "ipython3",
   "version": "3.7.3"
  }
 },
 "nbformat": 4,
 "nbformat_minor": 2
}
