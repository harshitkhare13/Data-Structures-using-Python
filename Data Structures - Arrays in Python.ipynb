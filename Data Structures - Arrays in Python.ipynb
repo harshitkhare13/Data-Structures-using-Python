{
 "cells": [
  {
   "cell_type": "markdown",
   "metadata": {},
   "source": [
    "# Introduction to Arrays\n",
    "An array is collection of items stored at contiguous memory locations.  \n",
    "The idea is to store multiple items of same type together. This makes it easier to calculate the position of each element by simply adding an offset to a base value, i.e., the memory location of the first element of the array (generally denoted by the name of the array).\n",
    "\n",
    "For simplicity, we can think of an array a fleet of stairs where on each step is placed a value (let’s say one of your friends).  \n",
    "Here, you can identify the location of any of your friends by simply knowing the count of the step they are on. \n",
    "\n",
    "Remember: “Location of next index depends on the data type we use”\n",
    "\n",
    "https://www.geeksforgeeks.org/introduction-to-arrays/\n",
    "\n",
    "### Advantages of using arrays:\n",
    "\n",
    "- Arrays allow random access of elements. This makes accessing elements by position faster.\n",
    "- Arrays have better cache locality that can make a pretty big difference in performance.\n",
    "\n",
    "### Cache Locality\n",
    "In computer science, locality of reference, also known as the principle of locality,[1] is the tendency of a processor to access the same set of memory locations repetitively over a short period of time.[2] There are two basic types of reference locality – temporal and spatial locality. Temporal locality refers to the reuse of specific data, and/or resources, within a relatively small time duration. Spatial locality refers to the use of data elements within relatively close storage locations. Sequential locality, a special case of spatial locality, occurs when data elements are arranged and accessed linearly, such as, traversing the elements in a one-dimensional array."
   ]
  },
  {
   "cell_type": "markdown",
   "metadata": {},
   "source": [
    "# Array in Python"
   ]
  },
  {
   "cell_type": "markdown",
   "metadata": {},
   "source": [
    "Other than some generic containers like list, Python in its definition can also handle containers with specified data types.  \n",
    "Array can be handled in python by module named “array“. They can be useful when we have to manipulate only a specific data type values.\n",
    "\n",
    "### Operations on Array :\n",
    "\n",
    "<b>1. array(data type, value list):-</b> This function is used to create an array with data type and value list specified in its arguments. Some of the data types are mentioned in the table below. \n",
    "\n",
    "<b>2. append():-</b> This function is used to add the value mentioned in its arguments at the end of the array. \n",
    "\n",
    "<b>3. insert(i,x):-</b> This function is used to add the value at the position specified in its argument. \n",
    "\n",
    "<b>4. pop():-</b> This function removes the element at the position mentioned in its argument, and returns it.\n",
    "\n",
    "<b>5. remove():-</b> This function is used to remove the first occurrence of the value mentioned in its arguments.\n",
    "\n",
    "<b>6. index():-</b> This function returns the index of the first occurrence of value mentioned in arguments.\n",
    "\n",
    "<b>7. reverse():-</b> This function reverses the array.\n"
   ]
  },
  {
   "cell_type": "markdown",
   "metadata": {},
   "source": [
    "# Implementation"
   ]
  },
  {
   "cell_type": "markdown",
   "metadata": {},
   "source": [
    "### Importing & creating"
   ]
  },
  {
   "cell_type": "code",
   "execution_count": 1,
   "metadata": {},
   "outputs": [
    {
     "data": {
      "text/plain": [
       "array('i', [1, 2, 3, 2, 3])"
      ]
     },
     "execution_count": 1,
     "metadata": {},
     "output_type": "execute_result"
    }
   ],
   "source": [
    "# importing \"array\"\n",
    "import array \n",
    "   \n",
    "# initializing array with array values \n",
    "arr = array.array('i', [1, 2, 3, 2, 3])   # i stands for signed int\n",
    "arr"
   ]
  },
  {
   "cell_type": "markdown",
   "metadata": {},
   "source": [
    "### Printing original array "
   ]
  },
  {
   "cell_type": "code",
   "execution_count": 2,
   "metadata": {},
   "outputs": [
    {
     "name": "stdout",
     "output_type": "stream",
     "text": [
      "The newly created array is:  1 2 3 2 3 "
     ]
    }
   ],
   "source": [
    "print (\"The newly created array is: \",end=\" \") \n",
    "for i in range (0, len(arr)): \n",
    "    print (arr[i], end=\" \") "
   ]
  },
  {
   "cell_type": "markdown",
   "metadata": {},
   "source": [
    "### Using append() to insert new value at end "
   ]
  },
  {
   "cell_type": "code",
   "execution_count": 3,
   "metadata": {},
   "outputs": [
    {
     "name": "stdout",
     "output_type": "stream",
     "text": [
      "The appended array is: 1 2 3 2 3 4 "
     ]
    }
   ],
   "source": [
    "arr.append(4)\n",
    "  \n",
    "# printing appended array \n",
    "print(\"The appended array is: \", end=\"\") \n",
    "for i in range (0, len(arr)): \n",
    "    print (arr[i], end=\" \") "
   ]
  },
  {
   "cell_type": "markdown",
   "metadata": {},
   "source": [
    "### Using insert() to insert value at specific position "
   ]
  },
  {
   "cell_type": "code",
   "execution_count": 4,
   "metadata": {},
   "outputs": [
    {
     "name": "stdout",
     "output_type": "stream",
     "text": [
      "The array after insertion is : 1 2 5 3 2 3 4 "
     ]
    }
   ],
   "source": [
    "# inserts 5 at 2nd position \n",
    "arr.insert(2, 5)\n",
    "  \n",
    "# printing array after insertion \n",
    "print (\"The array after insertion is : \", end=\"\") \n",
    "for i in range (0, len(arr)): \n",
    "    print (arr[i], end=\" \") "
   ]
  },
  {
   "cell_type": "markdown",
   "metadata": {},
   "source": [
    "### Using pop() to remove element at 2nd position "
   ]
  },
  {
   "cell_type": "code",
   "execution_count": 5,
   "metadata": {},
   "outputs": [
    {
     "name": "stdout",
     "output_type": "stream",
     "text": [
      "The popped element is : 5\n",
      "The array after popping is : 1 2 3 2 3 4 "
     ]
    }
   ],
   "source": [
    "print (\"The popped element is : \",end=\"\") \n",
    "print (arr.pop(2)); \n",
    "  \n",
    "# printing array after popping \n",
    "print (\"The array after popping is : \",end=\"\") \n",
    "for i in range (0, len(arr)): \n",
    "    print (arr[i],end=\" \") "
   ]
  },
  {
   "cell_type": "markdown",
   "metadata": {},
   "source": [
    "### Using remove() to remove 1st occurrence of 1 \n"
   ]
  },
  {
   "cell_type": "code",
   "execution_count": 6,
   "metadata": {},
   "outputs": [
    {
     "name": "stdout",
     "output_type": "stream",
     "text": [
      "The array after removing is : 2 3 2 3 4 "
     ]
    }
   ],
   "source": [
    "arr.remove(1) \n",
    "  \n",
    "# printing array after removing \n",
    "print (\"The array after removing is : \",end=\"\") \n",
    "for i in range (0, len(arr)): \n",
    "    print (arr[i],end=\" \") "
   ]
  },
  {
   "cell_type": "markdown",
   "metadata": {},
   "source": [
    "### Using index() to print index of 1st occurrenece of 2 "
   ]
  },
  {
   "cell_type": "code",
   "execution_count": 7,
   "metadata": {},
   "outputs": [
    {
     "name": "stdout",
     "output_type": "stream",
     "text": [
      "The index of 1st occurrence of 2 is : 0\n"
     ]
    }
   ],
   "source": [
    "print (\"The index of 1st occurrence of 2 is : \",end=\"\") \n",
    "print (arr.index(2)) "
   ]
  },
  {
   "cell_type": "markdown",
   "metadata": {},
   "source": [
    "### Using reverse() to reverse the array "
   ]
  },
  {
   "cell_type": "code",
   "execution_count": 8,
   "metadata": {},
   "outputs": [
    {
     "name": "stdout",
     "output_type": "stream",
     "text": [
      "The array after reversing is : 4 3 2 3 2 "
     ]
    }
   ],
   "source": [
    "arr.reverse() \n",
    "  \n",
    "# printing array after reversing \n",
    "print (\"The array after reversing is : \",end=\"\") \n",
    "for i in range (0, len(arr)): \n",
    "    print (arr[i],end=\" \") "
   ]
  },
  {
   "cell_type": "markdown",
   "metadata": {},
   "source": [
    "### Below are some more functions.\n",
    "\n",
    "<b>1. typecode:-</b> This function returns the data type by which array is initialised.\n",
    "\n",
    "<b>2. itemsize:-</b> This function returns size in bytes of a single array element.\n",
    "\n",
    "<b>3. buffer_info():-</b> Returns a tuple representing the address in which array is stored and number of elements in it.\n",
    "\n",
    "<b>4. count():-</b> This function counts the number of occurrences of argument mentioned in array.\n",
    "\n",
    "<b>5. extend(arr):-</b> This function appends a whole array mentioned in its arguments to the specified array.\n",
    "\n",
    "<b>6. fromlist(list):-</b> This function is used to append a list mentioned in its argument to end of array.\n",
    "\n",
    "<b>7. tolist():-</b> This function is used to transform an array into a list."
   ]
  },
  {
   "cell_type": "markdown",
   "metadata": {},
   "source": [
    "### Using typecode to print datatype of array "
   ]
  },
  {
   "cell_type": "code",
   "execution_count": 9,
   "metadata": {},
   "outputs": [
    {
     "name": "stdout",
     "output_type": "stream",
     "text": [
      "The datatype of array is: i\n"
     ]
    }
   ],
   "source": [
    "print(\"The datatype of array is: \",end=\"\") \n",
    "print(arr.typecode) "
   ]
  },
  {
   "cell_type": "markdown",
   "metadata": {},
   "source": [
    "### Using itemsize to print itemsize of array "
   ]
  },
  {
   "cell_type": "code",
   "execution_count": 10,
   "metadata": {},
   "outputs": [
    {
     "name": "stdout",
     "output_type": "stream",
     "text": [
      "The itemsize of array is: 4\n"
     ]
    }
   ],
   "source": [
    "print(\"The itemsize of array is: \",end=\"\") \n",
    "print(arr.itemsize) "
   ]
  },
  {
   "cell_type": "markdown",
   "metadata": {},
   "source": [
    "### Using buffer_info() to print buffer info. of array "
   ]
  },
  {
   "cell_type": "code",
   "execution_count": 11,
   "metadata": {},
   "outputs": [
    {
     "name": "stdout",
     "output_type": "stream",
     "text": [
      "The buffer info. of array is: (4378594040, 5)\n"
     ]
    }
   ],
   "source": [
    "print(\"The buffer info. of array is: \",end=\"\") \n",
    "print(arr.buffer_info()) \n"
   ]
  },
  {
   "cell_type": "markdown",
   "metadata": {},
   "source": [
    "### Using count() to count occurrences of 2 in array "
   ]
  },
  {
   "cell_type": "code",
   "execution_count": 12,
   "metadata": {},
   "outputs": [
    {
     "name": "stdout",
     "output_type": "stream",
     "text": [
      "The occurrences of 2 in array is : 2\n"
     ]
    }
   ],
   "source": [
    "print(\"The occurrences of 2 in array is : \",end=\"\") \n",
    "print(arr.count(2)) "
   ]
  },
  {
   "cell_type": "markdown",
   "metadata": {},
   "source": [
    "### Using extend() to add array 2 elements to array \n"
   ]
  },
  {
   "cell_type": "code",
   "execution_count": 13,
   "metadata": {},
   "outputs": [
    {
     "name": "stdout",
     "output_type": "stream",
     "text": [
      "The modified array is: 4 3 2 3 2 1 2 3 "
     ]
    }
   ],
   "source": [
    "arr2 = array.array('i',[1, 2, 3])  \n",
    "arr.extend(arr2) \n",
    "  \n",
    "print(\"The modified array is: \",end=\"\") \n",
    "for i in range (0, len(arr)): \n",
    "    print(arr[i],end=\" \") "
   ]
  },
  {
   "cell_type": "markdown",
   "metadata": {},
   "source": [
    "### Using fromlist() to append list at end of array "
   ]
  },
  {
   "cell_type": "code",
   "execution_count": 14,
   "metadata": {},
   "outputs": [
    {
     "name": "stdout",
     "output_type": "stream",
     "text": [
      "The modified array is: 4 3 2 3 2 1 2 3 1 2 3 "
     ]
    }
   ],
   "source": [
    "li = [1, 2, 3]\n",
    "\n",
    "arr.fromlist(li) \n",
    "  \n",
    "# printing the modified array \n",
    "print(\"The modified array is: \",end=\"\") \n",
    "for i in range (0,len(arr)): \n",
    "    print(arr[i],end=\" \") "
   ]
  },
  {
   "cell_type": "markdown",
   "metadata": {},
   "source": [
    "### Using tolist() to convert array into list "
   ]
  },
  {
   "cell_type": "code",
   "execution_count": 15,
   "metadata": {},
   "outputs": [
    {
     "name": "stdout",
     "output_type": "stream",
     "text": [
      "The new list created is: [4, 3, 2, 3, 2, 1, 2, 3, 1, 2, 3]\n"
     ]
    }
   ],
   "source": [
    "li2 = arr.tolist() \n",
    "\n",
    "# printing the new list \n",
    "print(\"The new list created is: \",end=\"\")\n",
    "print(li2)"
   ]
  }
 ],
 "metadata": {
  "kernelspec": {
   "display_name": "Python 3",
   "language": "python",
   "name": "python3"
  },
  "language_info": {
   "codemirror_mode": {
    "name": "ipython",
    "version": 3
   },
   "file_extension": ".py",
   "mimetype": "text/x-python",
   "name": "python",
   "nbconvert_exporter": "python",
   "pygments_lexer": "ipython3",
   "version": "3.7.3"
  }
 },
 "nbformat": 4,
 "nbformat_minor": 2
}
