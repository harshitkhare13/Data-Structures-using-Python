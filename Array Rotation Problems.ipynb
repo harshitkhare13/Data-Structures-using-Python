{
 "cells": [
  {
   "cell_type": "markdown",
   "metadata": {},
   "source": [
    "# Q. Write a function that left rotates array of size n by d elements."
   ]
  },
  {
   "cell_type": "markdown",
   "metadata": {},
   "source": [
    "### My Method"
   ]
  },
  {
   "cell_type": "code",
   "execution_count": 20,
   "metadata": {},
   "outputs": [],
   "source": [
    "def myrotate(arr, n, d):\n",
    "    new_arr = [0] * n\n",
    "    for i in range(n):\n",
    "        diff = i - d\n",
    "        if diff < 0:\n",
    "            diff += n\n",
    "        new_arr[diff] = arr[i]\n",
    "    return new_arr"
   ]
  },
  {
   "cell_type": "code",
   "execution_count": 21,
   "metadata": {},
   "outputs": [
    {
     "data": {
      "text/plain": [
       "[4, 5, 6, 7, 8, 1, 2, 3]"
      ]
     },
     "execution_count": 21,
     "metadata": {},
     "output_type": "execute_result"
    }
   ],
   "source": [
    "arr = [1, 2, 3, 4, 5, 6, 7, 8]\n",
    "myrotate(arr, 8, 3)"
   ]
  },
  {
   "cell_type": "markdown",
   "metadata": {},
   "source": [
    "### Method 1 (Using temporary array)"
   ]
  },
  {
   "cell_type": "code",
   "execution_count": 17,
   "metadata": {},
   "outputs": [],
   "source": [
    "def rotate1(arr, n, d):\n",
    "    temp_arr = arr[0:d]\n",
    "    for i in range(d, n):\n",
    "        arr[i-d] = arr[i]\n",
    "    j = 0\n",
    "    for i in range(n-d, n):\n",
    "        arr[i] = temp_arr[j]\n",
    "        j += 1\n",
    "    return arr"
   ]
  },
  {
   "cell_type": "code",
   "execution_count": 23,
   "metadata": {},
   "outputs": [
    {
     "data": {
      "text/plain": [
       "[4, 5, 6, 7, 8, 1, 2, 3]"
      ]
     },
     "execution_count": 23,
     "metadata": {},
     "output_type": "execute_result"
    }
   ],
   "source": [
    "arr = [1, 2, 3, 4, 5, 6, 7, 8]\n",
    "rotate1(arr, 8, 3)\n",
    "\n",
    "# Time complexity : O(n)\n",
    "# Auxiliary Space : O(d)"
   ]
  },
  {
   "cell_type": "markdown",
   "metadata": {},
   "source": [
    "### Method 2 (Rotate one by one using temporary variable)"
   ]
  },
  {
   "cell_type": "code",
   "execution_count": 26,
   "metadata": {},
   "outputs": [],
   "source": [
    "def rotate2(arr, n, d):\n",
    "    for i in range(d):\n",
    "        temp = arr[0]\n",
    "        for j in range(1, n):\n",
    "            arr[j-1] = arr[j]\n",
    "        arr[-1] = temp\n",
    "    return arr"
   ]
  },
  {
   "cell_type": "code",
   "execution_count": 28,
   "metadata": {},
   "outputs": [
    {
     "data": {
      "text/plain": [
       "[4, 5, 6, 7, 8, 1, 2, 3]"
      ]
     },
     "execution_count": 28,
     "metadata": {},
     "output_type": "execute_result"
    }
   ],
   "source": [
    "arr = [1, 2, 3, 4, 5, 6, 7, 8]\n",
    "rotate2(arr, 8, 3)\n",
    "\n",
    "# Time complexity : O(n * d)\n",
    "# Auxiliary Space : O(1)"
   ]
  },
  {
   "cell_type": "markdown",
   "metadata": {},
   "source": [
    "### Method 3 (A Juggling Algorithm)\n",
    "This is an extension of method 2. <br>\n",
    "Instead of moving one by one, divide the array in different sets where number of sets is equal to GCD of n and d and move the elements within sets.<br>\n",
    "\n",
    "Let arr[] be {1, 2, 3, 4, 5, 6, 7, 8, 9, 10, 11, 12}\n",
    "<br>\n",
    "a) Elements are first moved in first set\n",
    "\n",
    "          arr[] after this step --> {4 2 3 7 5 6 10 8 9 1 11 12}\n",
    "b) Then in second set.<br>\n",
    "\n",
    "          arr[] after this step --> {4 5 3 7 8 6 10 11 9 1 2 12}\n",
    "c) Finally in third set.\n",
    "\n",
    "          arr[] after this step --> {4 5 6 7 8 9 10 11 12 1 2 3}\n"
   ]
  },
  {
   "cell_type": "code",
   "execution_count": 3,
   "metadata": {},
   "outputs": [],
   "source": [
    "def gcd(x, y):\n",
    "    if y==0:\n",
    "        return x\n",
    "    return gcd(y, x%y)"
   ]
  },
  {
   "cell_type": "code",
   "execution_count": 1,
   "metadata": {},
   "outputs": [],
   "source": [
    "def rotate3(arr, n, d):\n",
    "    g_c_d = gcd(n, d)\n",
    "    for i in range(g_c_d):\n",
    "        j = i\n",
    "        temp = arr[i]\n",
    "        while True:\n",
    "            k = j + d\n",
    "            if k >= n:\n",
    "                k = k - n\n",
    "            if k == i:\n",
    "                break\n",
    "            arr[j] = arr[k]\n",
    "            j = k\n",
    "        arr[j] = temp\n",
    "    return arr"
   ]
  },
  {
   "cell_type": "code",
   "execution_count": 4,
   "metadata": {},
   "outputs": [
    {
     "data": {
      "text/plain": [
       "[4, 5, 6, 7, 8, 1, 2, 3]"
      ]
     },
     "execution_count": 4,
     "metadata": {},
     "output_type": "execute_result"
    }
   ],
   "source": [
    "arr = [1, 2, 3, 4, 5, 6, 7, 8]\n",
    "rotate3(arr, 8, 3)\n",
    "\n",
    "# Time complexity : O(n)\n",
    "# Auxiliary Space : O(1)"
   ]
  },
  {
   "cell_type": "markdown",
   "metadata": {},
   "source": [
    "### Method 4 (The Reversal Algorithm)\n",
    "##### Algorithm :\n",
    "```\n",
    "             rotate(arr[], d, n)\n",
    "                    reverse(arr[], 1, d) ;\n",
    "                    reverse(arr[], d + 1, n);\n",
    "                    reverse(arr[], 1, n);```\n",
    "\n",
    "Let AB are the two parts of the input array where A = arr[0..d-1] and B = arr[d..n-1].  \n",
    "The idea of the algorithm is :\n",
    "\n",
    "Reverse A to get ArB, where Ar is reverse of A.<br>\n",
    "Reverse B to get ArBr, where Br is reverse of B.<br>\n",
    "Reverse all to get (ArBr) r = BA.<br>\n",
    "Example :<br>\n",
    "Let the array be arr[] = [1, 2, 3, 4, 5, 6, 7], d =2 and n = 7<br>\n",
    "A = [1, 2] and B = [3, 4, 5, 6, 7]<br>\n",
    "\n",
    "Reverse A, we get ArB = [2, 1, 3, 4, 5, 6, 7]<br>\n",
    "Reverse B, we get ArBr = [2, 1, 7, 6, 5, 4, 3]<br>\n",
    "Reverse all, we get (ArBr)r = [3, 4, 5, 6, 7, 1, 2]<br>"
   ]
  },
  {
   "cell_type": "code",
   "execution_count": 15,
   "metadata": {},
   "outputs": [],
   "source": [
    "def reverse(arr, beg, end):\n",
    "    while(beg < end):\n",
    "        arr[beg],arr[end] = arr[end],arr[beg]\n",
    "        beg += 1\n",
    "        end -= 1\n",
    "    return arr\n",
    "    \n",
    "\n",
    "def rotate4(arr, n, d):\n",
    "    reverse(arr, 0, d-1)\n",
    "    reverse(arr, d, n - 1)\n",
    "    reverse(arr, 0, n - 1)\n",
    "    return arr"
   ]
  },
  {
   "cell_type": "code",
   "execution_count": 17,
   "metadata": {},
   "outputs": [
    {
     "data": {
      "text/plain": [
       "[4, 5, 6, 7, 8, 1, 2, 3]"
      ]
     },
     "execution_count": 17,
     "metadata": {},
     "output_type": "execute_result"
    }
   ],
   "source": [
    "arr = [1, 2, 3, 4, 5, 6, 7, 8]\n",
    "rotate4(arr, 8, 3)\n",
    "\n",
    "# Time complexity : O(n)"
   ]
  },
  {
   "cell_type": "markdown",
   "metadata": {},
   "source": [
    "# Q2. Given an array A[] and a number x, check for pair in A[] with sum as x"
   ]
  },
  {
   "cell_type": "markdown",
   "metadata": {},
   "source": [
    "### Method 1 (Sorting)"
   ]
  },
  {
   "cell_type": "code",
   "execution_count": 20,
   "metadata": {},
   "outputs": [],
   "source": [
    "def check1(arr, n, x):\n",
    "    arr.sort()\n",
    "    beg = 0\n",
    "    end = n - 1\n",
    "    while beg < end:\n",
    "        summ = arr[beg] + arr[end]\n",
    "        if summ > x:\n",
    "            end -= 1\n",
    "        elif summ < x:\n",
    "            beg += 1\n",
    "        elif summ == x:\n",
    "            return arr[beg], arr[end]\n",
    "    return -1"
   ]
  },
  {
   "cell_type": "code",
   "execution_count": 21,
   "metadata": {},
   "outputs": [
    {
     "data": {
      "text/plain": [
       "(1, 7)"
      ]
     },
     "execution_count": 21,
     "metadata": {},
     "output_type": "execute_result"
    }
   ],
   "source": [
    "arr = [1, 2, 3, 4, 5, 6, 7, 8]\n",
    "check1(arr, 8, 8)\n",
    "\n",
    "# Time complexity : O(nlogn)"
   ]
  },
  {
   "cell_type": "markdown",
   "metadata": {},
   "source": [
    "### Method 2 (Hashing set)"
   ]
  },
  {
   "cell_type": "code",
   "execution_count": 25,
   "metadata": {},
   "outputs": [],
   "source": [
    "def check2(arr, n, x):\n",
    "    d = set()\n",
    "    for i in arr:\n",
    "        num = x - i\n",
    "        if num in d:\n",
    "            return i, x - i\n",
    "        else:\n",
    "            d.add(i)"
   ]
  },
  {
   "cell_type": "code",
   "execution_count": 29,
   "metadata": {},
   "outputs": [
    {
     "data": {
      "text/plain": [
       "(4, 3)"
      ]
     },
     "execution_count": 29,
     "metadata": {},
     "output_type": "execute_result"
    }
   ],
   "source": [
    "arr = [1, 2, 3, 4, 5, 6, 7, 8]\n",
    "check2(arr, 8, 7)\n",
    "\n",
    "# Time complexity : O(n)"
   ]
  },
  {
   "cell_type": "markdown",
   "metadata": {},
   "source": [
    "# Q3. Find maximum value of Sum( i*arr[i]) with only rotations on given array allowed "
   ]
  },
  {
   "cell_type": "markdown",
   "metadata": {},
   "source": [
    "### Method 1: Find all rotations one by one, check sum of every rotation and return the maximum sum."
   ]
  },
  {
   "cell_type": "code",
   "execution_count": 1,
   "metadata": {},
   "outputs": [],
   "source": [
    "def rotateOnce(arr, n):\n",
    "    temp = arr[0]\n",
    "    for i in range(1, n):\n",
    "        arr[i - 1] = arr[i]\n",
    "    arr[-1] = temp\n",
    "    return arr\n",
    "\n",
    "def AllSum(arr, n):\n",
    "    summ = 0\n",
    "    for i in range(n):\n",
    "        summ += (i * arr[i])\n",
    "    return summ\n",
    "\n",
    "def MaxSum(arr, n):\n",
    "    maxsumm = AllSum(arr, n)\n",
    "    for i in range(n):\n",
    "        arr = rotateOnce(arr, n)\n",
    "        summ = AllSum(arr, n)\n",
    "        if summ > maxsumm:\n",
    "            maxsumm = summ\n",
    "    return maxsumm"
   ]
  },
  {
   "cell_type": "code",
   "execution_count": 5,
   "metadata": {},
   "outputs": [
    {
     "data": {
      "text/plain": [
       "8"
      ]
     },
     "execution_count": 5,
     "metadata": {},
     "output_type": "execute_result"
    }
   ],
   "source": [
    "arr = [2, 3, 1]\n",
    "MaxSum(arr, 3)\n",
    "\n",
    "#Time complexity of this solution is O(n2)."
   ]
  },
  {
   "cell_type": "markdown",
   "metadata": {},
   "source": [
    "### Method 2\n",
    "Let Rj be value of i*arr[i] with j rotations. <br>\n",
    "The idea is to calculate next rotation value from previous rotation, i.e., calculate Rj from Rj-1. <br>\n",
    "We can calculate initial value of result as R0, then keep calculating next rotation values."
   ]
  },
  {
   "cell_type": "markdown",
   "metadata": {},
   "source": [
    "Below is complete algorithm:\n",
    "```\n",
    "1) Compute sum of all array elements. Let this sum be 'arrSum'.\n",
    "\n",
    "2) Compute R0 by doing i*arr[i] for given array. \n",
    "   Let this value be currVal.\n",
    "\n",
    "3) Initialize result: maxVal = currVal // maxVal is result.\n",
    "\n",
    "// This loop computes Rj from  Rj-1 \n",
    "4) Do following for j = 1 to n-1\n",
    "......a) currVal = currVal + arrSum-n*arr[n-j];\n",
    "......b) If (currVal > maxVal)\n",
    "            maxVal = currVal   \n",
    "\n",
    "5) Return maxVal```"
   ]
  },
  {
   "cell_type": "code",
   "execution_count": 6,
   "metadata": {},
   "outputs": [],
   "source": [
    "def MaxSum2(arr, n):\n",
    "    arrSum = sum(arr)\n",
    "    currVal = 0\n",
    "    for i in range(n):\n",
    "        currVal += (i * arr[i])\n",
    "    maxVal = currVal\n",
    "    for j in range(1, n):\n",
    "        currVal += (arrSum - (n * arr[n-j]))\n",
    "        if currVal > maxVal:\n",
    "            maxVal = currVal\n",
    "    return maxVal"
   ]
  },
  {
   "cell_type": "code",
   "execution_count": 12,
   "metadata": {},
   "outputs": [
    {
     "data": {
      "text/plain": [
       "8"
      ]
     },
     "execution_count": 12,
     "metadata": {},
     "output_type": "execute_result"
    }
   ],
   "source": [
    "arr = [2, 3, 1]\n",
    "MaxSum(arr, 3)\n",
    "\n",
    "# Time Complexity : O(n)\n",
    "# Auxiliary Space : O(1)"
   ]
  },
  {
   "cell_type": "markdown",
   "metadata": {},
   "source": [
    "# Q3. Find the Rotation Count in Rotated Sorted array\n",
    "\n",
    "Consider an array of distinct numbers sorted in increasing order. <br>The array has been rotated (clockwise) k number of times. Given such an array, find the value of k.\n",
    "\n",
    "Examples:\n",
    "```\n",
    "Input : arr[] = {15, 18, 2, 3, 6, 12}\n",
    "Output: 2\n",
    "Explanation : Initial array must be {2, 3,\n",
    "6, 12, 15, 18}. We get the given array after \n",
    "rotating the initial array twice.\n",
    "\n",
    "Input : arr[] = {7, 9, 11, 12, 5}\n",
    "Output: 4\n",
    "\n",
    "Input: arr[] = {7, 9, 11, 12, 15};\n",
    "Output: 0```"
   ]
  },
  {
   "cell_type": "markdown",
   "metadata": {},
   "source": [
    "### My Method"
   ]
  },
  {
   "cell_type": "code",
   "execution_count": 35,
   "metadata": {},
   "outputs": [],
   "source": [
    "# Works for right rotation only\n",
    "\n",
    "def FindMaxIndex(arr, n):\n",
    "    MaxIndex = 0\n",
    "    init = arr[0]\n",
    "    for i in range(1, n):\n",
    "        if arr[i] >= init:\n",
    "            MaxIndex = i\n",
    "    return MaxIndex\n",
    "\n",
    "def Original(arr, n):\n",
    "    MaxIndex = FindMaxIndex(arr, n)\n",
    "    k = MaxIndex + 1\n",
    "    if k >= n:\n",
    "        k = 0\n",
    "    return k"
   ]
  },
  {
   "cell_type": "code",
   "execution_count": 36,
   "metadata": {},
   "outputs": [
    {
     "data": {
      "text/plain": [
       "4"
      ]
     },
     "execution_count": 36,
     "metadata": {},
     "output_type": "execute_result"
    }
   ],
   "source": [
    "arr = [7, 9, 11, 12, 5]\n",
    "Original(arr, 5)\n",
    "\n",
    "# Time Complexity : O(n)\n",
    "# Auxiliary Space : O(1)"
   ]
  },
  {
   "cell_type": "code",
   "execution_count": null,
   "metadata": {},
   "outputs": [],
   "source": []
  }
 ],
 "metadata": {
  "kernelspec": {
   "display_name": "Python 3",
   "language": "python",
   "name": "python3"
  },
  "language_info": {
   "codemirror_mode": {
    "name": "ipython",
    "version": 3
   },
   "file_extension": ".py",
   "mimetype": "text/x-python",
   "name": "python",
   "nbconvert_exporter": "python",
   "pygments_lexer": "ipython3",
   "version": "3.7.3"
  }
 },
 "nbformat": 4,
 "nbformat_minor": 2
}
