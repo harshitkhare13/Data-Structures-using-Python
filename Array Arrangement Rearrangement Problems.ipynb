{
 "cells": [
  {
   "cell_type": "markdown",
   "metadata": {},
   "source": [
    "# Q1. Rearrange an array such that arr[i] = i\n",
    "\n",
    "Given an array of elements of length N, ranging from 0 to N – 1. All elements may not be present in the array. If element is not present then there will be -1 present in the array. Rearrange the array such that A[i] = i and if i is not present, display -1 at that place.\n",
    "\n",
    "Examples:\n",
    "```\n",
    "Input : arr = {-1, -1, 6, 1, 9, 3, 2, -1, 4, -1}\n",
    "Output : [-1, 1, 2, 3, 4, -1, 6, -1, -1, 9]\n",
    "\n",
    "Input : arr = {19, 7, 0, 3, 18, 15, 12, 6, 1, 8,\n",
    "              11, 10, 9, 5, 13, 16, 2, 14, 17, 4}\n",
    "Output : [0, 1, 2, 3, 4, 5, 6, 7, 8, 9, 10, \n",
    "         11, 12, 13, 14, 15, 16, 17, 18, 19]```"
   ]
  },
  {
   "cell_type": "markdown",
   "metadata": {},
   "source": [
    "### My Method"
   ]
  },
  {
   "cell_type": "code",
   "execution_count": 5,
   "metadata": {},
   "outputs": [],
   "source": [
    "def rearrange(arr, n):\n",
    "    final = [-1] * (n)\n",
    "    for i in range(0, n):\n",
    "        if i in arr:\n",
    "            final[i] = i\n",
    "    return final"
   ]
  },
  {
   "cell_type": "code",
   "execution_count": 6,
   "metadata": {},
   "outputs": [
    {
     "data": {
      "text/plain": [
       "[-1, 1, 2, 3, 4, -1, 6, -1, -1, 9]"
      ]
     },
     "execution_count": 6,
     "metadata": {},
     "output_type": "execute_result"
    }
   ],
   "source": [
    "arr = [-1, -1, 6, 1, 9, 3, 2, -1, 4, -1]\n",
    "rearrange(arr, 10)"
   ]
  },
  {
   "cell_type": "markdown",
   "metadata": {},
   "source": [
    "# Q2. Move all zeroes to end of array\n",
    "Given an array of random numbers, Push all the zero’s of a given array to the end of the array.<br>\n",
    "For example, if the given arrays is {1, 9, 8, 4, 0, 0, 2, 7, 0, 6, 0}, it should be changed to {1, 9, 8, 4, 2, 7, 6, 0, 0, 0, 0}. <br>The order of all other elements should be same.<br> Expected time complexity is O(n) and extra space is O(1).\n",
    "\n",
    "Example:\n",
    "```\n",
    "Input :  arr[] = {1, 2, 0, 4, 3, 0, 5, 0};\n",
    "Output : arr[] = {1, 2, 4, 3, 5, 0, 0, 0};\n",
    "\n",
    "Input : arr[]  = {1, 2, 0, 0, 0, 3, 6};\n",
    "Output : arr[] = {1, 2, 3, 6, 0, 0, 0};```"
   ]
  },
  {
   "cell_type": "markdown",
   "metadata": {},
   "source": [
    "### My Method"
   ]
  },
  {
   "cell_type": "code",
   "execution_count": 10,
   "metadata": {},
   "outputs": [],
   "source": [
    "def pushZeros(arr):\n",
    "    count = 0\n",
    "    final = []\n",
    "    for i in arr:\n",
    "        if i!=0:\n",
    "            final.append(i)\n",
    "        else:\n",
    "            count += 1\n",
    "    final.extend([0] * count)\n",
    "    return final"
   ]
  },
  {
   "cell_type": "code",
   "execution_count": 11,
   "metadata": {},
   "outputs": [
    {
     "data": {
      "text/plain": [
       "[1, 2, 3, 6, 0, 0, 0]"
      ]
     },
     "execution_count": 11,
     "metadata": {},
     "output_type": "execute_result"
    }
   ],
   "source": [
    "#arr = [1, 2, 0, 4, 3, 0, 5, 0]\n",
    "arr = [1, 2, 0, 0, 0, 3, 6]\n",
    "pushZeros(arr)\n",
    "\n",
    "# Time Complexity: O(n)\n",
    "# Auxiliary Space: O(n)"
   ]
  },
  {
   "cell_type": "markdown",
   "metadata": {},
   "source": [
    "### Another method"
   ]
  },
  {
   "cell_type": "code",
   "execution_count": 15,
   "metadata": {},
   "outputs": [],
   "source": [
    "def pushZeros2(arr, n): \n",
    "    count = 0\n",
    "    for i in range(n): \n",
    "        if arr[i] != 0: \n",
    "            arr[count] = arr[i] \n",
    "            count+=1\n",
    "    while count < n: \n",
    "        arr[count] = 0\n",
    "        count += 1\n",
    "    return arr"
   ]
  },
  {
   "cell_type": "code",
   "execution_count": 17,
   "metadata": {},
   "outputs": [
    {
     "data": {
      "text/plain": [
       "[1, 2, 4, 3, 5, 0, 0, 0]"
      ]
     },
     "execution_count": 17,
     "metadata": {},
     "output_type": "execute_result"
    }
   ],
   "source": [
    "arr = [1, 2, 0, 4, 3, 0, 5, 0]\n",
    "#arr = [1, 2, 0, 0, 0, 3, 6]\n",
    "pushZeros2(arr, 8)\n",
    "\n",
    "# Time Complexity: O(n)\n",
    "# Auxiliary Space: O(1)"
   ]
  },
  {
   "cell_type": "markdown",
   "metadata": {},
   "source": [
    "# Q3. Rearrange array in alternating positive & negative items with O(1) extra space\n",
    "Given an array of positive and negative numbers, arrange them in an alternate fashion such that every positive number is followed by negative and vice-versa maintaining the order of appearance.<br>\n",
    "Number of positive and negative numbers need not be equal.<br> If there are more positive numbers they appear at the end of the array. <br>If there are more negative numbers, they too appear in the end of the array.\n",
    "\n",
    "Examples :\n",
    "```\n",
    "Input:  arr[] = {1, 2, 3, -4, -1, 4}\n",
    "Output: arr[] = {-4, 1, -1, 2, 3, 4}\n",
    "\n",
    "Input:  arr[] = {-5, -2, 5, 2, 4, 7, 1, 8, 0, -8}\n",
    "output: arr[] = {-5, 5, -2, 2, -8, 4, 7, 1, 8, 0} ```"
   ]
  },
  {
   "cell_type": "markdown",
   "metadata": {},
   "source": [
    "### My Method"
   ]
  },
  {
   "cell_type": "code",
   "execution_count": 27,
   "metadata": {},
   "outputs": [],
   "source": [
    "def alternative(arr):\n",
    "    pos = []\n",
    "    neg = []\n",
    "    final = []\n",
    "    for i in arr:\n",
    "        if i<0:\n",
    "            neg.append(i)\n",
    "        else:\n",
    "            pos.append(i)\n",
    "    lpos = len(pos)\n",
    "    lneg = len(neg)\n",
    "    ran = min(lpos, lneg)\n",
    "    for i in range(ran):\n",
    "        final.extend([neg[i], pos[i]])\n",
    "    if lpos > lneg:\n",
    "        for i in range(ran, lpos):\n",
    "            final.append(pos[i])\n",
    "    elif lpos < lneg:\n",
    "        for i in range(ran, lneg):\n",
    "            final.append(neg[i])\n",
    "    return final"
   ]
  },
  {
   "cell_type": "code",
   "execution_count": 28,
   "metadata": {},
   "outputs": [
    {
     "data": {
      "text/plain": [
       "[-5, 5, -2, 2, -8, 4, 7, 1, 8, 0]"
      ]
     },
     "execution_count": 28,
     "metadata": {},
     "output_type": "execute_result"
    }
   ],
   "source": [
    "#arr = [1, 2, 3, -4, -1, 4]\n",
    "arr = [-5, -2, 5, 2, 4, 7, 1, 8, 0, -8]\n",
    "alternative(arr)"
   ]
  },
  {
   "cell_type": "markdown",
   "metadata": {},
   "source": [
    "### Efficient Method\n",
    "It becomes interesting due to the limitations that O(1) extra space and order of appearances.<br>\n",
    "The idea is to process array from left to right. While processing, find the first out of place element in the remaining unprocessed array. <br>An element is out of place if it is negative and at odd index, or it is positive and at even index. <br>Once we find an out of place element, we find the first element after it with opposite sign. We right rotate the subarray between these two elements (including these two)."
   ]
  },
  {
   "cell_type": "markdown",
   "metadata": {},
   "source": []
  },
  {
   "cell_type": "code",
   "execution_count": null,
   "metadata": {},
   "outputs": [],
   "source": []
  },
  {
   "cell_type": "code",
   "execution_count": null,
   "metadata": {},
   "outputs": [],
   "source": []
  },
  {
   "cell_type": "code",
   "execution_count": null,
   "metadata": {},
   "outputs": [],
   "source": []
  }
 ],
 "metadata": {
  "kernelspec": {
   "display_name": "Python 3",
   "language": "python",
   "name": "python3"
  },
  "language_info": {
   "codemirror_mode": {
    "name": "ipython",
    "version": 3
   },
   "file_extension": ".py",
   "mimetype": "text/x-python",
   "name": "python",
   "nbconvert_exporter": "python",
   "pygments_lexer": "ipython3",
   "version": "3.7.3"
  }
 },
 "nbformat": 4,
 "nbformat_minor": 2
}
