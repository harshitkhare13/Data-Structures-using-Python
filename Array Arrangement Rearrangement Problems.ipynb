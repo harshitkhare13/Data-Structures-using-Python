{
 "cells": [
  {
   "cell_type": "markdown",
   "metadata": {},
   "source": [
    "# Q1. Rearrange an array such that arr[i] = i\n",
    "\n",
    "Given an array of elements of length N, ranging from 0 to N – 1. All elements may not be present in the array. If element is not present then there will be -1 present in the array. Rearrange the array such that A[i] = i and if i is not present, display -1 at that place.\n",
    "\n",
    "Examples:\n",
    "```\n",
    "Input : arr = {-1, -1, 6, 1, 9, 3, 2, -1, 4, -1}\n",
    "Output : [-1, 1, 2, 3, 4, -1, 6, -1, -1, 9]\n",
    "\n",
    "Input : arr = {19, 7, 0, 3, 18, 15, 12, 6, 1, 8,\n",
    "              11, 10, 9, 5, 13, 16, 2, 14, 17, 4}\n",
    "Output : [0, 1, 2, 3, 4, 5, 6, 7, 8, 9, 10, \n",
    "         11, 12, 13, 14, 15, 16, 17, 18, 19]```"
   ]
  },
  {
   "cell_type": "markdown",
   "metadata": {},
   "source": [
    "### My Method"
   ]
  },
  {
   "cell_type": "code",
   "execution_count": 5,
   "metadata": {},
   "outputs": [],
   "source": [
    "def rearrange(arr, n):\n",
    "    final = [-1] * (n)\n",
    "    for i in range(0, n):\n",
    "        if i in arr:\n",
    "            final[i] = i\n",
    "    return final"
   ]
  },
  {
   "cell_type": "code",
   "execution_count": 6,
   "metadata": {},
   "outputs": [
    {
     "data": {
      "text/plain": [
       "[-1, 1, 2, 3, 4, -1, 6, -1, -1, 9]"
      ]
     },
     "execution_count": 6,
     "metadata": {},
     "output_type": "execute_result"
    }
   ],
   "source": [
    "arr = [-1, -1, 6, 1, 9, 3, 2, -1, 4, -1]\n",
    "rearrange(arr, 10)"
   ]
  },
  {
   "cell_type": "markdown",
   "metadata": {},
   "source": [
    "# Q2. Move all zeroes to end of array\n",
    "Given an array of random numbers, Push all the zero’s of a given array to the end of the array.<br>\n",
    "For example, if the given arrays is {1, 9, 8, 4, 0, 0, 2, 7, 0, 6, 0}, it should be changed to {1, 9, 8, 4, 2, 7, 6, 0, 0, 0, 0}. <br>The order of all other elements should be same.<br> Expected time complexity is O(n) and extra space is O(1).\n",
    "\n",
    "Example:\n",
    "```\n",
    "Input :  arr[] = {1, 2, 0, 4, 3, 0, 5, 0};\n",
    "Output : arr[] = {1, 2, 4, 3, 5, 0, 0, 0};\n",
    "\n",
    "Input : arr[]  = {1, 2, 0, 0, 0, 3, 6};\n",
    "Output : arr[] = {1, 2, 3, 6, 0, 0, 0};```"
   ]
  },
  {
   "cell_type": "markdown",
   "metadata": {},
   "source": [
    "### My Method"
   ]
  },
  {
   "cell_type": "code",
   "execution_count": 10,
   "metadata": {},
   "outputs": [],
   "source": [
    "def pushZeros(arr):\n",
    "    count = 0\n",
    "    final = []\n",
    "    for i in arr:\n",
    "        if i!=0:\n",
    "            final.append(i)\n",
    "        else:\n",
    "            count += 1\n",
    "    final.extend([0] * count)\n",
    "    return final"
   ]
  },
  {
   "cell_type": "code",
   "execution_count": 11,
   "metadata": {},
   "outputs": [
    {
     "data": {
      "text/plain": [
       "[1, 2, 3, 6, 0, 0, 0]"
      ]
     },
     "execution_count": 11,
     "metadata": {},
     "output_type": "execute_result"
    }
   ],
   "source": [
    "#arr = [1, 2, 0, 4, 3, 0, 5, 0]\n",
    "arr = [1, 2, 0, 0, 0, 3, 6]\n",
    "pushZeros(arr)\n",
    "\n",
    "# Time Complexity: O(n)\n",
    "# Auxiliary Space: O(n)"
   ]
  },
  {
   "cell_type": "markdown",
   "metadata": {},
   "source": [
    "### Another method"
   ]
  },
  {
   "cell_type": "code",
   "execution_count": 15,
   "metadata": {},
   "outputs": [],
   "source": [
    "def pushZeros2(arr, n): \n",
    "    count = 0\n",
    "    for i in range(n): \n",
    "        if arr[i] != 0: \n",
    "            arr[count] = arr[i] \n",
    "            count+=1\n",
    "    while count < n: \n",
    "        arr[count] = 0\n",
    "        count += 1\n",
    "    return arr"
   ]
  },
  {
   "cell_type": "code",
   "execution_count": 17,
   "metadata": {},
   "outputs": [
    {
     "data": {
      "text/plain": [
       "[1, 2, 4, 3, 5, 0, 0, 0]"
      ]
     },
     "execution_count": 17,
     "metadata": {},
     "output_type": "execute_result"
    }
   ],
   "source": [
    "arr = [1, 2, 0, 4, 3, 0, 5, 0]\n",
    "#arr = [1, 2, 0, 0, 0, 3, 6]\n",
    "pushZeros2(arr, 8)\n",
    "\n",
    "# Time Complexity: O(n)\n",
    "# Auxiliary Space: O(1)"
   ]
  },
  {
   "cell_type": "markdown",
   "metadata": {},
   "source": [
    "# Q3. Rearrange array in alternating positive & negative items with O(1) extra space\n",
    "Given an array of positive and negative numbers, arrange them in an alternate fashion such that every positive number is followed by negative and vice-versa maintaining the order of appearance.<br>\n",
    "Number of positive and negative numbers need not be equal.<br> If there are more positive numbers they appear at the end of the array. <br>If there are more negative numbers, they too appear in the end of the array.\n",
    "\n",
    "Examples :\n",
    "```\n",
    "Input:  arr[] = {1, 2, 3, -4, -1, 4}\n",
    "Output: arr[] = {-4, 1, -1, 2, 3, 4}\n",
    "\n",
    "Input:  arr[] = {-5, -2, 5, 2, 4, 7, 1, 8, 0, -8}\n",
    "output: arr[] = {-5, 5, -2, 2, -8, 4, 7, 1, 8, 0} ```"
   ]
  },
  {
   "cell_type": "markdown",
   "metadata": {},
   "source": [
    "### My Method"
   ]
  },
  {
   "cell_type": "code",
   "execution_count": 27,
   "metadata": {},
   "outputs": [],
   "source": [
    "def alternative(arr):\n",
    "    pos = []\n",
    "    neg = []\n",
    "    final = []\n",
    "    for i in arr:\n",
    "        if i<0:\n",
    "            neg.append(i)\n",
    "        else:\n",
    "            pos.append(i)\n",
    "    lpos = len(pos)\n",
    "    lneg = len(neg)\n",
    "    ran = min(lpos, lneg)\n",
    "    for i in range(ran):\n",
    "        final.extend([neg[i], pos[i]])\n",
    "    if lpos > lneg:\n",
    "        for i in range(ran, lpos):\n",
    "            final.append(pos[i])\n",
    "    elif lpos < lneg:\n",
    "        for i in range(ran, lneg):\n",
    "            final.append(neg[i])\n",
    "    return final"
   ]
  },
  {
   "cell_type": "code",
   "execution_count": 28,
   "metadata": {},
   "outputs": [
    {
     "data": {
      "text/plain": [
       "[-5, 5, -2, 2, -8, 4, 7, 1, 8, 0]"
      ]
     },
     "execution_count": 28,
     "metadata": {},
     "output_type": "execute_result"
    }
   ],
   "source": [
    "#arr = [1, 2, 3, -4, -1, 4]\n",
    "arr = [-5, -2, 5, 2, 4, 7, 1, 8, 0, -8]\n",
    "alternative(arr)\n",
    "\n",
    "# Time Complexity: O(n)\n",
    "# Auxiliary Space: O(n)"
   ]
  },
  {
   "cell_type": "markdown",
   "metadata": {},
   "source": [
    "### Efficient Method\n",
    "It becomes interesting due to the limitations that O(1) extra space and order of appearances.<br>\n",
    "The idea is to process array from left to right. While processing, find the first out of place element in the remaining unprocessed array. <br>An element is out of place if it is negative and at odd index, or it is positive and at even index. <br>Once we find an out of place element, we find the first element after it with opposite sign. We right rotate the subarray between these two elements (including these two)."
   ]
  },
  {
   "cell_type": "code",
   "execution_count": 50,
   "metadata": {},
   "outputs": [],
   "source": [
    "def rotateRight(arr, start, end):\n",
    "    temp = arr[end]\n",
    "    for i in range(end, start, -1):\n",
    "        arr[i]=arr[i-1]\n",
    "    arr[start] = temp\n",
    "    return arr\n",
    "\n",
    "def alternative2(arr, n):\n",
    "    for i in range(n):\n",
    "        if ((arr[i]>=0) and (i%2==0)):\n",
    "            for j in range(i+1,n):\n",
    "                if arr[j]<0:\n",
    "                    break\n",
    "            else:\n",
    "                break\n",
    "            arr = rotateRight(arr, i, j)\n",
    "            \n",
    "        elif ((arr[i]<0) and (i%2==1)):\n",
    "            for j in range(i+1,n):\n",
    "                if arr[j]>0:\n",
    "                    break\n",
    "            else:\n",
    "                break\n",
    "            arr = rotateRight(arr, i, j)\n",
    "    return arr"
   ]
  },
  {
   "cell_type": "code",
   "execution_count": 52,
   "metadata": {},
   "outputs": [
    {
     "data": {
      "text/plain": [
       "[-4, 1, -1, 2, 3, 4]"
      ]
     },
     "execution_count": 52,
     "metadata": {},
     "output_type": "execute_result"
    }
   ],
   "source": [
    "# arr = [-5, -2, 5, 2, 4, 7, 1, 8, 0, -8]\n",
    "arr = [1, 2, 3, -4, -1, 4]\n",
    "alternative2(arr, 6)\n",
    "\n",
    "# Time Complexity: O(n)\n",
    "# Auxiliary Space: O(1)"
   ]
  },
  {
   "cell_type": "markdown",
   "metadata": {},
   "source": [
    "# Q4. Minimum swaps required to bring all elements less than or equal to k together\n",
    "Given an array of n positive integers and a number k.<br> Find the minimum number of swaps required to bring all the numbers less than or equal to k together.\n",
    "```\n",
    "Input:  arr[] = {2, 1, 5, 6, 3}, k = 3\n",
    "Output: 1\n",
    "\n",
    "Explanation: \n",
    "To bring elements 2, 1, 3 together, swap \n",
    "element '5' with '3' such that final array\n",
    "will be-\n",
    "arr[] = {2, 1, 3, 6, 5}\n",
    "\n",
    "Input:  arr[] = {2, 7, 9, 5, 8, 7, 4}, k = 5\n",
    "Output: 2```\n",
    "\n",
    "A simple solution is to first count all elements less than or equals to k.<br> Now traverse for every sub-array and swap those elements whose value is greater than k. "
   ]
  },
  {
   "cell_type": "code",
   "execution_count": null,
   "metadata": {},
   "outputs": [],
   "source": [
    "def swaps(arr, n, k):\n",
    "    count = 0\n",
    "    for i in arr:\n",
    "        if i<=k:\n",
    "            count += 1\n",
    "    "
   ]
  },
  {
   "cell_type": "code",
   "execution_count": null,
   "metadata": {},
   "outputs": [],
   "source": [
    "arr = [2, 1, 5, 6, 3]\n",
    "k = 3\n",
    "\n",
    "# Time Complexity: O(n2)\n",
    "# Auxiliary Space: O(n)"
   ]
  },
  {
   "cell_type": "markdown",
   "metadata": {},
   "source": [
    "### Random Pattern Question"
   ]
  },
  {
   "cell_type": "code",
   "execution_count": 75,
   "metadata": {},
   "outputs": [
    {
     "name": "stdout",
     "output_type": "stream",
     "text": [
      "                  1   \n",
      "                1   1   \n",
      "              1   2   1   \n",
      "            1   3   3   1   \n",
      "          1   4   6   4   1   \n",
      "        1   5  10  10   5   1   \n",
      "      1   6  15  20  15   6   1   \n",
      "    1   7  21  35  35  21   7   1   \n",
      "  1   8  28  56  70  56  28   8   1   \n",
      "1   9  36  84 126 126  84  36   9   1   \n"
     ]
    }
   ],
   "source": [
    "# n = int(input())\n",
    "n = 10\n",
    "t = n - 1\n",
    "for i in range(1,n+1):\n",
    "    c = 1\n",
    "    print(\"  \"*(t), end=\"\")\n",
    "    for j in range(1,i+1):\n",
    "        print(c, end=\"\")\n",
    "        c = int(c*(i-j)/j)\n",
    "        l = 4 - len(str(c))\n",
    "        print(\" \"*(l),end=\"\")\n",
    "        \n",
    "    t-=1\n",
    "    print()"
   ]
  },
  {
   "cell_type": "code",
   "execution_count": 126,
   "metadata": {},
   "outputs": [],
   "source": [
    "from itertools import combinations,product"
   ]
  },
  {
   "cell_type": "code",
   "execution_count": 79,
   "metadata": {},
   "outputs": [],
   "source": [
    "x = 3 #int(input())\n",
    "s = 2 #int(input())\n",
    "y = 4 #int(input())\n",
    "m = 3 #int(input())\n",
    "z = 3 #int(input())\n",
    "c = 2 #int(input())\n",
    "pair = ['A', 'D'] #input().split()\n",
    "single = 'G' #input()"
   ]
  },
  {
   "cell_type": "code",
   "execution_count": 92,
   "metadata": {},
   "outputs": [
    {
     "name": "stdout",
     "output_type": "stream",
     "text": [
      "['A', 'B', 'C'] ['D', 'E', 'F', 'G'] ['H', 'I', 'J']\n"
     ]
    }
   ],
   "source": [
    "simpleQ = [chr(65 + i) for i in range(x)]\n",
    "mediumQ = [chr(65 + i) for i in range(x, x+y)]\n",
    "complexQ = [chr(65 + i) for i in range(x+y, x+y+z)]\n",
    "\n",
    "print(simpleQ,mediumQ,complexQ)"
   ]
  },
  {
   "cell_type": "code",
   "execution_count": 124,
   "metadata": {},
   "outputs": [
    {
     "data": {
      "text/plain": [
       "[[('A', 'B'), ('A', 'C'), ('B', 'C')],\n",
       " [('D', 'E', 'F'), ('D', 'E', 'G'), ('D', 'F', 'G'), ('E', 'F', 'G')],\n",
       " [('H', 'I'), ('H', 'J'), ('I', 'J')]]"
      ]
     },
     "execution_count": 124,
     "metadata": {},
     "output_type": "execute_result"
    }
   ],
   "source": [
    "simpleComb = combinations(simpleQ, s) \n",
    "mediumComb = combinations(mediumQ, m) \n",
    "complexComb = combinations(complexQ, c) \n",
    "#print(list(simpleComb))\n",
    "#print(list(mediumComb))\n",
    "#print(list(complexComb))\n",
    "final = []\n",
    "final.append(list(simpleComb))\n",
    "final.append(list(mediumComb))\n",
    "final.append(list(complexComb))\n",
    "final"
   ]
  },
  {
   "cell_type": "code",
   "execution_count": 128,
   "metadata": {},
   "outputs": [],
   "source": [
    "combs = list(product(*final))"
   ]
  },
  {
   "cell_type": "code",
   "execution_count": 132,
   "metadata": {},
   "outputs": [
    {
     "data": {
      "text/plain": [
       "'AB'"
      ]
     },
     "execution_count": 132,
     "metadata": {},
     "output_type": "execute_result"
    }
   ],
   "source": [
    "''.join(combs[1][0])"
   ]
  },
  {
   "cell_type": "code",
   "execution_count": 137,
   "metadata": {},
   "outputs": [
    {
     "data": {
      "text/plain": [
       "[(('A', 'B'), ('D', 'E', 'F'), ('H', 'I')),\n",
       " (('A', 'B'), ('D', 'E', 'F'), ('H', 'J')),\n",
       " (('A', 'B'), ('D', 'E', 'F'), ('I', 'J')),\n",
       " (('A', 'B'), ('D', 'E', 'G'), ('H', 'I')),\n",
       " (('A', 'B'), ('D', 'E', 'G'), ('H', 'J')),\n",
       " (('A', 'B'), ('D', 'E', 'G'), ('I', 'J')),\n",
       " (('A', 'B'), ('D', 'F', 'G'), ('H', 'I')),\n",
       " (('A', 'B'), ('D', 'F', 'G'), ('H', 'J')),\n",
       " (('A', 'B'), ('D', 'F', 'G'), ('I', 'J')),\n",
       " (('A', 'B'), ('E', 'F', 'G'), ('H', 'I')),\n",
       " (('A', 'B'), ('E', 'F', 'G'), ('H', 'J')),\n",
       " (('A', 'B'), ('E', 'F', 'G'), ('I', 'J')),\n",
       " (('A', 'C'), ('D', 'E', 'F'), ('H', 'I')),\n",
       " (('A', 'C'), ('D', 'E', 'F'), ('H', 'J')),\n",
       " (('A', 'C'), ('D', 'E', 'F'), ('I', 'J')),\n",
       " (('A', 'C'), ('D', 'E', 'G'), ('H', 'I')),\n",
       " (('A', 'C'), ('D', 'E', 'G'), ('H', 'J')),\n",
       " (('A', 'C'), ('D', 'E', 'G'), ('I', 'J')),\n",
       " (('A', 'C'), ('D', 'F', 'G'), ('H', 'I')),\n",
       " (('A', 'C'), ('D', 'F', 'G'), ('H', 'J')),\n",
       " (('A', 'C'), ('D', 'F', 'G'), ('I', 'J')),\n",
       " (('A', 'C'), ('E', 'F', 'G'), ('H', 'I')),\n",
       " (('A', 'C'), ('E', 'F', 'G'), ('H', 'J')),\n",
       " (('A', 'C'), ('E', 'F', 'G'), ('I', 'J')),\n",
       " (('B', 'C'), ('D', 'E', 'F'), ('H', 'I')),\n",
       " (('B', 'C'), ('D', 'E', 'F'), ('H', 'J')),\n",
       " (('B', 'C'), ('D', 'E', 'F'), ('I', 'J')),\n",
       " (('B', 'C'), ('D', 'E', 'G'), ('H', 'I')),\n",
       " (('B', 'C'), ('D', 'E', 'G'), ('H', 'J')),\n",
       " (('B', 'C'), ('D', 'E', 'G'), ('I', 'J')),\n",
       " (('B', 'C'), ('D', 'F', 'G'), ('H', 'I')),\n",
       " (('B', 'C'), ('D', 'F', 'G'), ('H', 'J')),\n",
       " (('B', 'C'), ('D', 'F', 'G'), ('I', 'J')),\n",
       " (('B', 'C'), ('E', 'F', 'G'), ('H', 'I')),\n",
       " (('B', 'C'), ('E', 'F', 'G'), ('H', 'J')),\n",
       " (('B', 'C'), ('E', 'F', 'G'), ('I', 'J'))]"
      ]
     },
     "execution_count": 137,
     "metadata": {},
     "output_type": "execute_result"
    }
   ],
   "source": [
    "combs"
   ]
  },
  {
   "cell_type": "code",
   "execution_count": 140,
   "metadata": {},
   "outputs": [],
   "source": [
    "final_combs = []\n",
    "for i in combs:\n",
    "    st = ''\n",
    "    for j in i:\n",
    "        st += ''.join(j)\n",
    "    final_combs.append(st)"
   ]
  },
  {
   "cell_type": "code",
   "execution_count": 149,
   "metadata": {},
   "outputs": [
    {
     "data": {
      "text/plain": [
       "['ABDEFHI',\n",
       " 'ABDEFHJ',\n",
       " 'ABDEFIJ',\n",
       " 'ABDEGHI',\n",
       " 'ABDEGHJ',\n",
       " 'ABDEGIJ',\n",
       " 'ABDFGHI',\n",
       " 'ABDFGHJ',\n",
       " 'ABDFGIJ',\n",
       " 'ABEFGHI',\n",
       " 'ABEFGHJ',\n",
       " 'ABEFGIJ',\n",
       " 'ACDEFHI',\n",
       " 'ACDEFHJ',\n",
       " 'ACDEFIJ',\n",
       " 'ACDEGHI',\n",
       " 'ACDEGHJ',\n",
       " 'ACDEGIJ',\n",
       " 'ACDFGHI',\n",
       " 'ACDFGHJ',\n",
       " 'ACDFGIJ',\n",
       " 'ACEFGHI',\n",
       " 'ACEFGHJ',\n",
       " 'ACEFGIJ',\n",
       " 'BCDEFHI',\n",
       " 'BCDEFHJ',\n",
       " 'BCDEFIJ',\n",
       " 'BCDEGHI',\n",
       " 'BCDEGHJ',\n",
       " 'BCDEGIJ',\n",
       " 'BCDFGHI',\n",
       " 'BCDFGHJ',\n",
       " 'BCDFGIJ',\n",
       " 'BCEFGHI',\n",
       " 'BCEFGHJ',\n",
       " 'BCEFGIJ']"
      ]
     },
     "execution_count": 149,
     "metadata": {},
     "output_type": "execute_result"
    }
   ],
   "source": [
    "final_combs"
   ]
  },
  {
   "cell_type": "code",
   "execution_count": 145,
   "metadata": {},
   "outputs": [
    {
     "data": {
      "text/plain": [
       "['A', 'D']"
      ]
     },
     "execution_count": 145,
     "metadata": {},
     "output_type": "execute_result"
    }
   ],
   "source": [
    "pair"
   ]
  },
  {
   "cell_type": "code",
   "execution_count": 157,
   "metadata": {},
   "outputs": [
    {
     "data": {
      "text/plain": [
       "4"
      ]
     },
     "execution_count": 157,
     "metadata": {},
     "output_type": "execute_result"
    }
   ],
   "source": [
    "count = 0\n",
    "final_final = []\n",
    "for i in final_combs:\n",
    "    if (pair[0] in i) and (pair[1] in i):\n",
    "        continue\n",
    "    else:\n",
    "        final_final.append(i)\n",
    "        \n",
    "for i in final_final:\n",
    "    if (single in i):\n",
    "        continue\n",
    "    else:\n",
    "        count += 1\n",
    "count += 1\n",
    "count\n"
   ]
  },
  {
   "cell_type": "code",
   "execution_count": 159,
   "metadata": {},
   "outputs": [
    {
     "name": "stdout",
     "output_type": "stream",
     "text": [
      "3\n",
      "2\n",
      "4\n",
      "3\n",
      "3\n",
      "2\n",
      "A D\n",
      "G\n",
      "12\n",
      "4\n"
     ]
    }
   ],
   "source": [
    "# This is The Coding Area\n",
    "from itertools import combinations,product\n",
    "\n",
    "x = int(input())\n",
    "s = int(input())\n",
    "y = int(input())\n",
    "m = int(input())\n",
    "z = int(input())\n",
    "c = int(input())\n",
    "pair = input().split()\n",
    "single = input()\n",
    "\n",
    "simpleQ = [chr(65 + i) for i in range(x)]\n",
    "mediumQ = [chr(65 + i) for i in range(x, x+y)]\n",
    "complexQ = [chr(65 + i) for i in range(x+y, x+y+z)]\n",
    "\n",
    "simpleComb = combinations(simpleQ, s) \n",
    "mediumComb = combinations(mediumQ, m) \n",
    "complexComb = combinations(complexQ, c) \n",
    "#print(list(simpleComb))\n",
    "#print(list(mediumComb))\n",
    "#print(list(complexComb))\n",
    "final = []\n",
    "final.append(list(simpleComb))\n",
    "final.append(list(mediumComb))\n",
    "final.append(list(complexComb))\n",
    "\n",
    "combs = list(product(*final))\n",
    "\n",
    "final_combs = []\n",
    "for i in combs:\n",
    "    st = ''\n",
    "    for j in i:\n",
    "        st += ''.join(j)\n",
    "    final_combs.append(st)\n",
    "    \n",
    "count = 0\n",
    "final_final = []\n",
    "for i in final_combs:\n",
    "    if (pair[0] in i) and (pair[1] in i):\n",
    "        continue\n",
    "    else:\n",
    "        final_final.append(i)\n",
    "        \n",
    "for i in final_final:\n",
    "    if (single in i):\n",
    "        continue\n",
    "    else:\n",
    "        count += 1\n",
    "count += 1\n",
    "print(s*m*c)\n",
    "print(count)"
   ]
  },
  {
   "cell_type": "code",
   "execution_count": null,
   "metadata": {},
   "outputs": [],
   "source": []
  }
 ],
 "metadata": {
  "kernelspec": {
   "display_name": "Python 3",
   "language": "python",
   "name": "python3"
  },
  "language_info": {
   "codemirror_mode": {
    "name": "ipython",
    "version": 3
   },
   "file_extension": ".py",
   "mimetype": "text/x-python",
   "name": "python",
   "nbconvert_exporter": "python",
   "pygments_lexer": "ipython3",
   "version": "3.7.3"
  }
 },
 "nbformat": 4,
 "nbformat_minor": 2
}
